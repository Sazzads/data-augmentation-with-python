{
 "cells": [
  {
   "cell_type": "code",
   "execution_count": 230,
   "id": "04de35a8",
   "metadata": {},
   "outputs": [],
   "source": [
    "from keras.preprocessing.image import ImageDataGenerator\n",
    "from skimage import io"
   ]
  },
  {
   "cell_type": "code",
   "execution_count": 231,
   "id": "8d2569fc",
   "metadata": {},
   "outputs": [],
   "source": [
    "datagen = ImageDataGenerator(\n",
    "        rotation_range=45,     #Random rotation between 0 and 45\n",
    "        width_shift_range=0.3,   #% shift\n",
    "        height_shift_range=0.3,\n",
    "        shear_range=0.2, \n",
    "        zoom_range=0.2,\n",
    "        horizontal_flip=True,\n",
    "        fill_mode='reflect')    #Also try nearest, constant, reflect, wrap"
   ]
  },
  {
   "cell_type": "code",
   "execution_count": 232,
   "id": "a066377a",
   "metadata": {},
   "outputs": [
    {
     "name": "stdout",
     "output_type": "stream",
     "text": [
      "Found 72 images belonging to 1 classes.\n",
      "\n",
      "the augmentation is succesfully complited.\n",
      "Every image augmented 8 times\n"
     ]
    }
   ],
   "source": [
    "i = 0\n",
    "#here you can augment image from different directory\n",
    "for batch in datagen.flow_from_directory(directory='C:\\\\Users\\\\Sazzad\\\\Downloads\\\\DEFENCE\\\\augmentation\\\\dataset\\\\dataset', \n",
    "                                         batch_size=256,  \n",
    "                                         target_size=(256, 256),\n",
    "                                         color_mode=\"rgb\",\n",
    "                                         save_to_dir='C:\\\\Users\\\\Sazzad\\\\Downloads\\\\DEFENCE\\\\augmentation\\\\augmented dataset', \n",
    "                                         save_prefix='aug', \n",
    "                                         save_format='png'):\n",
    "    i += 1\n",
    "    #here (i>=xxx) the value of image you want to augmentation\n",
    "    if i >= 8:\n",
    "        break \n",
    "        \n",
    "print(\"\\nthe augmentation is succesfully complited.\\nEvery image augmented\",i,\"times\")"
   ]
  },
  {
   "cell_type": "code",
   "execution_count": 149,
   "id": "7b6deb1d",
   "metadata": {},
   "outputs": [],
   "source": [
    "import os "
   ]
  },
  {
   "cell_type": "code",
   "execution_count": 150,
   "id": "ba0d38b7",
   "metadata": {},
   "outputs": [],
   "source": [
    "path=os.chdir('C:\\\\Users\\\\Sazzad\\\\Downloads\\\\DEFENCE\\\\augmentation\\\\augmented dataset')"
   ]
  },
  {
   "cell_type": "code",
   "execution_count": 151,
   "id": "1243cafa",
   "metadata": {},
   "outputs": [],
   "source": [
    "i=1\n",
    "for file in os.listdir(path):\n",
    "    new_file_name=\"fire_{}.png\".format(i)\n",
    "    os.rename(file,new_file_name)\n",
    "    i=i+1"
   ]
  },
  {
   "cell_type": "code",
   "execution_count": null,
   "id": "b6292229",
   "metadata": {},
   "outputs": [],
   "source": []
  },
  {
   "cell_type": "code",
   "execution_count": null,
   "id": "35e7a5cc",
   "metadata": {},
   "outputs": [],
   "source": []
  },
  {
   "cell_type": "code",
   "execution_count": null,
   "id": "167e3873",
   "metadata": {},
   "outputs": [],
   "source": []
  }
 ],
 "metadata": {
  "kernelspec": {
   "display_name": "Python 3 (ipykernel)",
   "language": "python",
   "name": "python3"
  },
  "language_info": {
   "codemirror_mode": {
    "name": "ipython",
    "version": 3
   },
   "file_extension": ".py",
   "mimetype": "text/x-python",
   "name": "python",
   "nbconvert_exporter": "python",
   "pygments_lexer": "ipython3",
   "version": "3.9.12"
  }
 },
 "nbformat": 4,
 "nbformat_minor": 5
}
