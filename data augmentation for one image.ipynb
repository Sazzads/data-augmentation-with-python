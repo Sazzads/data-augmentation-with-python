{
 "cells": [
  {
   "cell_type": "code",
   "execution_count": 105,
   "id": "04de35a8",
   "metadata": {},
   "outputs": [],
   "source": [
    "from keras.preprocessing.image import ImageDataGenerator\n",
    "from skimage import io"
   ]
  },
  {
   "cell_type": "code",
   "execution_count": 106,
   "id": "a066377a",
   "metadata": {},
   "outputs": [],
   "source": [
    "datagen = ImageDataGenerator(\n",
    "        rotation_range=45,     #Random rotation between 0 and 45\n",
    "        width_shift_range=0.3,   #% shift\n",
    "        height_shift_range=0.3,\n",
    "        shear_range=0.2, \n",
    "        zoom_range=0.2,\n",
    "        horizontal_flip=True,\n",
    "        fill_mode='reflect')    #Also try nearest, constant, reflect, wrap"
   ]
  },
  {
   "cell_type": "code",
   "execution_count": 107,
   "id": "ba0d38b7",
   "metadata": {},
   "outputs": [],
   "source": [
    "x = io.imread('C:\\\\Users\\\\Sazzad\\\\Downloads\\\\aug\\\\bad\\\\emma.jpg')"
   ]
  },
  {
   "cell_type": "code",
   "execution_count": 108,
   "id": "5b246782",
   "metadata": {},
   "outputs": [
    {
     "name": "stdout",
     "output_type": "stream",
     "text": [
      "\n",
      "the augmentation is succesfully complited.\n",
      "Every image augmented 8 times\n"
     ]
    }
   ],
   "source": [
    "x = x.reshape((1, ) + x.shape)  #Array with shape (1, 300, 300, 3)\n",
    "\n",
    "i = 0\n",
    "for batch in datagen.flow(x, batch_size=16,  \n",
    "                          save_to_dir='C:\\\\Users\\\\Sazzad\\\\Downloads\\\\aug\\\\emmaa', \n",
    "                          save_prefix=\"aug\", \n",
    "                          save_format='png'):\n",
    "    i += 1\n",
    "    if i >= 8:\n",
    "        break  # otherwise the generator would loop indefinitely  \n",
    "print(\"\\nthe augmentation is succesfully complited.\\nEvery image augmented\",i,\"times\")        "
   ]
  },
  {
   "cell_type": "code",
   "execution_count": 109,
   "id": "a7caa103",
   "metadata": {},
   "outputs": [],
   "source": [
    "import os "
   ]
  },
  {
   "cell_type": "code",
   "execution_count": 110,
   "id": "4c44fd27",
   "metadata": {},
   "outputs": [],
   "source": [
    "path=os.chdir('C:\\\\Users\\\\Sazzad\\\\Downloads\\\\aug\\\\emmaa')"
   ]
  },
  {
   "cell_type": "code",
   "execution_count": 111,
   "id": "fb38a7ee",
   "metadata": {},
   "outputs": [],
   "source": [
    "i=1\n",
    "for file in os.listdir(path):\n",
    "    new_file_name=\"emma_{}.png\".format(i)\n",
    "    os.rename(file,new_file_name)\n",
    "    i=i+1"
   ]
  },
  {
   "cell_type": "code",
   "execution_count": null,
   "id": "8997dacc",
   "metadata": {},
   "outputs": [],
   "source": []
  }
 ],
 "metadata": {
  "kernelspec": {
   "display_name": "Python 3 (ipykernel)",
   "language": "python",
   "name": "python3"
  },
  "language_info": {
   "codemirror_mode": {
    "name": "ipython",
    "version": 3
   },
   "file_extension": ".py",
   "mimetype": "text/x-python",
   "name": "python",
   "nbconvert_exporter": "python",
   "pygments_lexer": "ipython3",
   "version": "3.9.12"
  }
 },
 "nbformat": 4,
 "nbformat_minor": 5
}
